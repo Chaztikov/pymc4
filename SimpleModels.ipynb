{
 "cells": [
  {
   "cell_type": "markdown",
   "metadata": {},
   "source": [
    "# Simple Model"
   ]
  },
  {
   "cell_type": "code",
   "execution_count": 1,
   "metadata": {},
   "outputs": [],
   "source": [
    "import pymc4 as pm\n",
    "import tensorflow as tf\n",
    "import numpy as np\n",
    "import matplotlib.pyplot as plt"
   ]
  },
  {
   "cell_type": "code",
   "execution_count": 2,
   "metadata": {},
   "outputs": [],
   "source": [
    "sess = tf.InteractiveSession()"
   ]
  },
  {
   "cell_type": "code",
   "execution_count": 3,
   "metadata": {},
   "outputs": [],
   "source": [
    "@pm.model\n",
    "def simple_model():\n",
    "    mu = pm.Normal('mu', loc=2, scale=0)\n",
    "    pm.Normal('y_1', mu, scale=0)"
   ]
  },
  {
   "cell_type": "markdown",
   "metadata": {},
   "source": [
    "## Model is defined by not executed yet\n",
    "Tensorflow graph should be empty"
   ]
  },
  {
   "cell_type": "code",
   "execution_count": 4,
   "metadata": {},
   "outputs": [],
   "source": [
    "def check_tensorflow_graph():\n",
    "    writer = tf.summary.FileWriter('.')\n",
    "    writer.add_graph(tf.get_default_graph())\n",
    "    writer.flush()\n",
    "    return [n.name for n in tf.get_default_graph().as_graph_def().node]"
   ]
  },
  {
   "cell_type": "code",
   "execution_count": 5,
   "metadata": {},
   "outputs": [
    {
     "data": {
      "text/plain": [
       "[]"
      ]
     },
     "execution_count": 5,
     "metadata": {},
     "output_type": "execute_result"
    }
   ],
   "source": [
    "check_tensorflow_graph()"
   ]
  },
  {
   "cell_type": "markdown",
   "metadata": {},
   "source": [
    "## Run configure"
   ]
  },
  {
   "cell_type": "code",
   "execution_count": 6,
   "metadata": {},
   "outputs": [],
   "source": [
    "model = simple_model.configure()"
   ]
  },
  {
   "cell_type": "code",
   "execution_count": 7,
   "metadata": {},
   "outputs": [
    {
     "data": {
      "text/plain": [
       "['Normal/loc',\n",
       " 'Normal/scale',\n",
       " 'Normal/Identity',\n",
       " 'Normal/Identity_1',\n",
       " 'Normal/sample/sample_shape',\n",
       " 'Normal/batch_shape_tensor/batch_shape',\n",
       " 'Normal/sample/concat/values_0',\n",
       " 'Normal/sample/concat/axis',\n",
       " 'Normal/sample/concat',\n",
       " 'Normal/sample/random_normal/mean',\n",
       " 'Normal/sample/random_normal/stddev',\n",
       " 'Normal/sample/random_normal/RandomStandardNormal',\n",
       " 'Normal/sample/random_normal/mul',\n",
       " 'Normal/sample/random_normal',\n",
       " 'Normal/sample/mul',\n",
       " 'Normal/sample/add',\n",
       " 'Normal/sample/Shape',\n",
       " 'Normal/sample/strided_slice/stack',\n",
       " 'Normal/sample/strided_slice/stack_1',\n",
       " 'Normal/sample/strided_slice/stack_2',\n",
       " 'Normal/sample/strided_slice',\n",
       " 'Normal/sample/concat_1/axis',\n",
       " 'Normal/sample/concat_1',\n",
       " 'Normal/sample/Reshape',\n",
       " 'Normal_1/scale',\n",
       " 'Normal_1/Identity',\n",
       " 'Normal_1/Identity_1']"
      ]
     },
     "execution_count": 7,
     "metadata": {},
     "output_type": "execute_result"
    }
   ],
   "source": [
    "check_tensorflow_graph()"
   ]
  }
 ],
 "metadata": {
  "kernelspec": {
   "display_name": "Python 3",
   "language": "python",
   "name": "python3"
  },
  "language_info": {
   "codemirror_mode": {
    "name": "ipython",
    "version": 3
   },
   "file_extension": ".py",
   "mimetype": "text/x-python",
   "name": "python",
   "nbconvert_exporter": "python",
   "pygments_lexer": "ipython3",
   "version": "3.6.7"
  }
 },
 "nbformat": 4,
 "nbformat_minor": 2
}

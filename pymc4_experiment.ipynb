{
 "cells": [
  {
   "cell_type": "code",
   "execution_count": 1,
   "metadata": {},
   "outputs": [],
   "source": [
    "import pymc4 as pm\n",
    "import tensorflow as tf\n",
    "import numpy as np"
   ]
  },
  {
   "cell_type": "markdown",
   "metadata": {},
   "source": [
    "## Graph"
   ]
  },
  {
   "cell_type": "code",
   "execution_count": 9,
   "metadata": {},
   "outputs": [],
   "source": [
    "sess = tf.InteractiveSession()"
   ]
  },
  {
   "cell_type": "code",
   "execution_count": 3,
   "metadata": {},
   "outputs": [],
   "source": [
    "@pm.model\n",
    "def t_test(sd_prior='half_normal'):\n",
    "    mu = pm.Normal('mu', 0, 1)\n",
    "    sd = pm.HalfNormal('sd', 1)\n",
    "    pm.Normal('y_0', 0, 2 * sd)\n",
    "    pm.Normal('y_1', mu, 2 * sd)\n",
    "\n",
    "model = t_test.configure()\n",
    "\n",
    "model._forward_context.vars"
   ]
  },
  {
   "cell_type": "code",
   "execution_count": 76,
   "metadata": {},
   "outputs": [
    {
     "name": "stdout",
     "output_type": "stream",
     "text": [
      "508 µs ± 32.2 µs per loop (mean ± std. dev. of 7 runs, 1 loop each)\n"
     ]
    },
    {
     "data": {
      "text/plain": [
       "-54.939014"
      ]
     },
     "execution_count": 76,
     "metadata": {},
     "output_type": "execute_result"
    }
   ],
   "source": [
    "mu = tf.placeholder(tf.float32)\n",
    "sd = tf.placeholder(tf.float32)\n",
    "y_0 = tf.placeholder(tf.float32)\n",
    "y_1 = tf.placeholder(tf.float32)\n",
    "logp = func(mu, sd, y_0, y_1)\n",
    "\n",
    "mu_ = np.ones(10).astype('f')\n",
    "sd_ = np.ones(10).astype('f')\n",
    "y_0_ = np.ones(10).astype('f')\n",
    "y_1_ = np.ones(10).astype('f')\n",
    "%timeit sess.run(logp, feed_dict={mu: mu_, sd: sd_, y_0: y_0_, y_1: y_1_})\n",
    "sess.run(logp, feed_dict={mu: mu_, sd: sd_, y_0: y_0_, y_1: y_1_})"
   ]
  },
  {
   "cell_type": "code",
   "execution_count": 77,
   "metadata": {},
   "outputs": [
    {
     "name": "stdout",
     "output_type": "stream",
     "text": [
      "2.14 ms ± 322 µs per loop (mean ± std. dev. of 7 runs, 1 loop each)\n"
     ]
    },
    {
     "data": {
      "text/plain": [
       "[-54.939014,\n",
       " [array([-1., -1., -1., -1., -1., -1., -1., -1., -1., -1.], dtype=float32),\n",
       "  array([-2.75, -2.75, -2.75, -2.75, -2.75, -2.75, -2.75, -2.75, -2.75,\n",
       "         -2.75], dtype=float32),\n",
       "  array([-0.25, -0.25, -0.25, -0.25, -0.25, -0.25, -0.25, -0.25, -0.25,\n",
       "         -0.25], dtype=float32),\n",
       "  array([-0., -0., -0., -0., -0., -0., -0., -0., -0., -0.], dtype=float32)]]"
      ]
     },
     "execution_count": 77,
     "metadata": {},
     "output_type": "execute_result"
    }
   ],
   "source": [
    "grad = tf.gradients(logp, [mu, sd, y_0, y_1])\n",
    "%timeit sess.run([logp, grad], feed_dict={mu: mu_, sd: sd_, y_0: y_0_, y_1: y_1_})\n",
    "sess.run([logp, grad], feed_dict={mu: mu_, sd: sd_, y_0: y_0_, y_1: y_1_})"
   ]
  },
  {
   "cell_type": "code",
   "execution_count": 78,
   "metadata": {},
   "outputs": [
    {
     "name": "stdout",
     "output_type": "stream",
     "text": [
      "424 µs ± 32.4 µs per loop (mean ± std. dev. of 7 runs, 1 loop each)\n"
     ]
    },
    {
     "data": {
      "text/plain": [
       "-54.939014"
      ]
     },
     "execution_count": 78,
     "metadata": {},
     "output_type": "execute_result"
    }
   ],
   "source": [
    "array = tf.placeholder(tf.float32)\n",
    "\n",
    "mu = array[:10]\n",
    "sd = array[10:20]\n",
    "y_0 = array[20:30]\n",
    "y_1 = array[30:40]\n",
    "logp = func(mu, sd, y_0, y_1)\n",
    "\n",
    "array_ = np.ones(40).astype('f')\n",
    "%timeit sess.run(logp, {array: array_})\n",
    "sess.run(logp, {array: array_})"
   ]
  },
  {
   "cell_type": "code",
   "execution_count": 79,
   "metadata": {},
   "outputs": [
    {
     "name": "stdout",
     "output_type": "stream",
     "text": [
      "2.26 ms ± 418 µs per loop (mean ± std. dev. of 7 runs, 1 loop each)\n"
     ]
    },
    {
     "data": {
      "text/plain": [
       "[-54.939014,\n",
       " [array([-1.  , -1.  , -1.  , -1.  , -1.  , -1.  , -1.  , -1.  , -1.  ,\n",
       "         -1.  , -2.75, -2.75, -2.75, -2.75, -2.75, -2.75, -2.75, -2.75,\n",
       "         -2.75, -2.75, -0.25, -0.25, -0.25, -0.25, -0.25, -0.25, -0.25,\n",
       "         -0.25, -0.25, -0.25,  0.  ,  0.  ,  0.  ,  0.  ,  0.  ,  0.  ,\n",
       "          0.  ,  0.  ,  0.  ,  0.  ], dtype=float32)]]"
      ]
     },
     "execution_count": 79,
     "metadata": {},
     "output_type": "execute_result"
    }
   ],
   "source": [
    "grad = tf.gradients(logp, array)\n",
    "%timeit sess.run([logp, grad], {array: array_})\n",
    "sess.run([logp, grad], {array: array_})"
   ]
  },
  {
   "cell_type": "code",
   "execution_count": 84,
   "metadata": {},
   "outputs": [
    {
     "name": "stdout",
     "output_type": "stream",
     "text": [
      "336 µs ± 21 µs per loop (mean ± std. dev. of 7 runs, 1 loop each)\n"
     ]
    },
    {
     "data": {
      "text/plain": [
       "-54.939014"
      ]
     },
     "execution_count": 84,
     "metadata": {},
     "output_type": "execute_result"
    }
   ],
   "source": [
    "mu = tf.Variable(tf.ones(10), dtype=tf.float32)[:]\n",
    "sd = tf.Variable(tf.ones(10), dtype=tf.float32)[:]\n",
    "y_0 = tf.Variable(tf.ones(10), dtype=tf.float32)[:]\n",
    "y_1 = tf.Variable(tf.ones(10), dtype=tf.float32)[:]\n",
    "logp = func(mu, sd, y_0, y_1)\n",
    "\n",
    "sess.run(tf.global_variables_initializer())\n",
    "%timeit sess.run(logp)\n",
    "sess.run(logp)"
   ]
  },
  {
   "cell_type": "code",
   "execution_count": 86,
   "metadata": {},
   "outputs": [
    {
     "name": "stdout",
     "output_type": "stream",
     "text": [
      "1.88 ms ± 535 µs per loop (mean ± std. dev. of 7 runs, 1 loop each)\n"
     ]
    },
    {
     "data": {
      "text/plain": [
       "[-54.939014, None]"
      ]
     },
     "execution_count": 86,
     "metadata": {},
     "output_type": "execute_result"
    }
   ],
   "source": [
    "array = tf.Variable(tf.ones(40), dtype=tf.float32)\n",
    "grad_array = tf.Variable(tf.zeros([1, 40]), dtype=tf.float32)\n",
    "\n",
    "mu = array[:10]\n",
    "sd = array[10:20]\n",
    "y_0 = array[20:30]\n",
    "y_1 = array[30:40]\n",
    "logp = func(mu, sd, y_0, y_1)\n",
    "grad = tf.gradients(logp, array)\n",
    "write = grad_array.assign(grad, read_value=False)\n",
    "\n",
    "sess.run(tf.global_variables_initializer())\n",
    "\n",
    "%timeit sess.run([logp, write])\n",
    "sess.run([logp, write])"
   ]
  },
  {
   "cell_type": "code",
   "execution_count": 90,
   "metadata": {},
   "outputs": [
    {
     "name": "stdout",
     "output_type": "stream",
     "text": [
      "79.9 µs ± 1.97 µs per loop (mean ± std. dev. of 7 runs, 10000 loops each)\n"
     ]
    },
    {
     "data": {
      "text/plain": [
       "array([[-1.  , -1.  , -1.  , -1.  , -1.  , -1.  , -1.  , -1.  , -1.  ,\n",
       "        -1.  , -2.75, -2.75, -2.75, -2.75, -2.75, -2.75, -2.75, -2.75,\n",
       "        -2.75, -2.75, -0.25, -0.25, -0.25, -0.25, -0.25, -0.25, -0.25,\n",
       "        -0.25, -0.25, -0.25,  0.  ,  0.  ,  0.  ,  0.  ,  0.  ,  0.  ,\n",
       "         0.  ,  0.  ,  0.  ,  0.  ]], dtype=float32)"
      ]
     },
     "execution_count": 90,
     "metadata": {},
     "output_type": "execute_result"
    }
   ],
   "source": [
    "%timeit sess.run(grad_array)\n",
    "sess.run(grad_array)"
   ]
  },
  {
   "cell_type": "markdown",
   "metadata": {},
   "source": [
    "## Eager"
   ]
  },
  {
   "cell_type": "code",
   "execution_count": 6,
   "metadata": {},
   "outputs": [],
   "source": [
    "tf.enable_eager_execution()"
   ]
  },
  {
   "cell_type": "code",
   "execution_count": 7,
   "metadata": {},
   "outputs": [
    {
     "data": {
      "text/plain": [
       "[<pymc4._random_variables.Normal at 0x7f1230a85668>,\n",
       " <pymc4._random_variables.HalfNormal at 0x7f1230a85898>,\n",
       " <pymc4._random_variables.Normal at 0x7f1230a85ac8>,\n",
       " <pymc4._random_variables.Normal at 0x7f1230a85978>]"
      ]
     },
     "execution_count": 7,
     "metadata": {},
     "output_type": "execute_result"
    }
   ],
   "source": [
    "@pm.model\n",
    "def t_test(sd_prior='half_normal'):\n",
    "    mu = pm.Normal('mu', 0, 1)\n",
    "    sd = pm.HalfNormal('sd', 1)\n",
    "    pm.Normal('y_0', 0, 2 * sd)\n",
    "    pm.Normal('y_1', mu, 2 * sd)\n",
    "\n",
    "model = t_test.configure()\n",
    "\n",
    "model._forward_context.vars"
   ]
  },
  {
   "cell_type": "code",
   "execution_count": 15,
   "metadata": {},
   "outputs": [
    {
     "name": "stdout",
     "output_type": "stream",
     "text": [
      "897 µs ± 12.6 µs per loop (mean ± std. dev. of 7 runs, 1000 loops each)\n"
     ]
    },
    {
     "data": {
      "text/plain": [
       "<tf.Tensor: id=1800979, shape=(), dtype=float32, numpy=-54.939014>"
      ]
     },
     "execution_count": 15,
     "metadata": {},
     "output_type": "execute_result"
    }
   ],
   "source": [
    "func = model.make_logp_function()\n",
    "\n",
    "mu = tf.ones((10,))\n",
    "sd = tf.ones((10,))\n",
    "y_0 = tf.ones((10,))\n",
    "y_1 = tf.ones((10,))\n",
    "%timeit logp = func(mu, sd, y_0, y_1)\n",
    "func(mu, sd, y_0, y_1)"
   ]
  },
  {
   "cell_type": "code",
   "execution_count": 11,
   "metadata": {},
   "outputs": [],
   "source": [
    "logp_func_defun = tf.contrib.eager.defun(func)"
   ]
  },
  {
   "cell_type": "code",
   "execution_count": 14,
   "metadata": {},
   "outputs": [
    {
     "name": "stdout",
     "output_type": "stream",
     "text": [
      "104 µs ± 3.59 µs per loop (mean ± std. dev. of 7 runs, 10000 loops each)\n"
     ]
    },
    {
     "data": {
      "text/plain": [
       "<tf.Tensor: id=1281798, shape=(), dtype=float32, numpy=-54.939014>"
      ]
     },
     "execution_count": 14,
     "metadata": {},
     "output_type": "execute_result"
    }
   ],
   "source": [
    "mu = tf.ones((10,))\n",
    "sd = tf.ones((10,))\n",
    "y_0 = tf.ones((10,))\n",
    "y_1 = tf.ones((10,))\n",
    "%timeit logp = logp_func_defun(mu, sd, y_0, y_1)\n",
    "logp_func_defun(mu, sd, y_0, y_1)"
   ]
  },
  {
   "cell_type": "code",
   "execution_count": 21,
   "metadata": {},
   "outputs": [
    {
     "data": {
      "text/plain": [
       "<tf.Tensor: id=1882584, shape=(10,), dtype=float32, numpy=array([-1., -1., -1., -1., -1., -1., -1., -1., -1., -1.], dtype=float32)>"
      ]
     },
     "execution_count": 21,
     "metadata": {},
     "output_type": "execute_result"
    }
   ],
   "source": [
    "mu = tf.ones((10,))\n",
    "sd = tf.ones((10,))\n",
    "y_0 = tf.ones((10,))\n",
    "y_1 = tf.ones((10,))\n",
    "\n",
    "with tf.GradientTape() as tape:\n",
    "    tape.watch(mu)\n",
    "    tape.watch(sd)\n",
    "    tape.watch(y_0)\n",
    "    tape.watch(y_1)\n",
    "\n",
    "    logp = logp_func_defun(mu, sd, y_0, y_1)\n",
    "\n",
    "tape.gradient(logp, mu)"
   ]
  },
  {
   "cell_type": "code",
   "execution_count": 24,
   "metadata": {},
   "outputs": [
    {
     "name": "stdout",
     "output_type": "stream",
     "text": [
      "883 µs ± 16.1 µs per loop (mean ± std. dev. of 7 runs, 1000 loops each)\n"
     ]
    }
   ],
   "source": [
    "%%timeit\n",
    "with tf.GradientTape() as tape:\n",
    "    tape.watch(mu)\n",
    "    tape.watch(sd)\n",
    "    tape.watch(y_0)\n",
    "    tape.watch(y_1)\n",
    "    logp = logp_func_defun(mu, sd, y_0, y_1)\n",
    "\n",
    "tape.gradient(logp, [mu, sd, y_0, y_1])"
   ]
  },
  {
   "cell_type": "code",
   "execution_count": 27,
   "metadata": {},
   "outputs": [
    {
     "name": "stdout",
     "output_type": "stream",
     "text": [
      "1.58 ms ± 185 µs per loop (mean ± std. dev. of 7 runs, 1 loop each)\n"
     ]
    },
    {
     "data": {
      "text/plain": [
       "(<tf.Tensor: id=2516112, shape=(), dtype=float32, numpy=-54.939014>,\n",
       " [<tf.Tensor: id=2516113, shape=(10,), dtype=float32, numpy=array([-1., -1., -1., -1., -1., -1., -1., -1., -1., -1.], dtype=float32)>,\n",
       "  <tf.Tensor: id=2516114, shape=(10,), dtype=float32, numpy=\n",
       "  array([-2.75, -2.75, -2.75, -2.75, -2.75, -2.75, -2.75, -2.75, -2.75,\n",
       "         -2.75], dtype=float32)>,\n",
       "  <tf.Tensor: id=2516115, shape=(10,), dtype=float32, numpy=\n",
       "  array([-0.25, -0.25, -0.25, -0.25, -0.25, -0.25, -0.25, -0.25, -0.25,\n",
       "         -0.25], dtype=float32)>,\n",
       "  <tf.Tensor: id=2516116, shape=(10,), dtype=float32, numpy=array([-0., -0., -0., -0., -0., -0., -0., -0., -0., -0.], dtype=float32)>])"
      ]
     },
     "execution_count": 27,
     "metadata": {},
     "output_type": "execute_result"
    }
   ],
   "source": [
    "def logp_and_grad(*args):\n",
    "    logp = func(*args)\n",
    "    return logp, tf.gradients(logp, args)\n",
    "\n",
    "logp_grad_func_defun = tf.contrib.eager.defun(logp_and_grad)\n",
    "\n",
    "mu = tf.ones((10,))\n",
    "sd = tf.ones((10,))\n",
    "y_0 = tf.ones((10,))\n",
    "y_1 = tf.ones((10,))\n",
    "%timeit logp = logp_grad_func_defun(mu, sd, y_0, y_1)\n",
    "logp_grad_func_defun(mu, sd, y_0, y_1)"
   ]
  }
 ],
 "metadata": {
  "kernelspec": {
   "display_name": "Python 3",
   "language": "python",
   "name": "python3"
  },
  "language_info": {
   "codemirror_mode": {
    "name": "ipython",
    "version": 3
   },
   "file_extension": ".py",
   "mimetype": "text/x-python",
   "name": "python",
   "nbconvert_exporter": "python",
   "pygments_lexer": "ipython3",
   "version": "3.6.6"
  }
 },
 "nbformat": 4,
 "nbformat_minor": 2
}
